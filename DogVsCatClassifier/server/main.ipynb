{
 "metadata": {
  "language_info": {
   "codemirror_mode": {
    "name": "ipython",
    "version": 3
   },
   "file_extension": ".py",
   "mimetype": "text/x-python",
   "name": "python",
   "nbconvert_exporter": "python",
   "pygments_lexer": "ipython3",
   "version": "3.7.9"
  },
  "orig_nbformat": 2,
  "kernelspec": {
   "name": "python379jvsc74a57bd00c4132d5ede56bd40b0bdd125398cfd152a99577fc6ec03da27af8e648161214",
   "display_name": "Python 3.7.9 64-bit ('AI': conda)"
  }
 },
 "nbformat": 4,
 "nbformat_minor": 2,
 "cells": [
  {
   "cell_type": "code",
   "execution_count": 1,
   "metadata": {},
   "outputs": [],
   "source": [
    "#importing libraries\n",
    "import flask\n",
    "import pandas as pd\n",
    "import tensorflow as tf\n",
    "from tensorflow import keras\n",
    "keras.__version__\n",
    "from tensorflow.keras.models import load_model\n",
    "from tensorflow.keras.preprocessing import image\n",
    "import numpy as np"
   ]
  },
  {
   "cell_type": "code",
   "execution_count": 2,
   "metadata": {},
   "outputs": [],
   "source": [
    "# instantiate flask \n",
    "app = flask.Flask(__name__)"
   ]
  },
  {
   "cell_type": "code",
   "execution_count": 3,
   "metadata": {},
   "outputs": [],
   "source": [
    "#folder locations\n",
    "STATIC_FOLDER = 'static'\n",
    "UPLOAD_FOLDER = STATIC_FOLDER + '/uploads'\n",
    "MODEL_FOLDER = '/Models'"
   ]
  },
  {
   "cell_type": "code",
   "execution_count": 4,
   "metadata": {},
   "outputs": [],
   "source": [
    "@app.route('/upload', methods=['POST'])\n",
    "#file upload and saving\n",
    "def upload():\n",
    "    #fetch file from json input\n",
    "    file = flask.request.files['image']\n",
    "    if file == '':\n",
    "        return \"Please enter an image\"\n",
    "    file_location = os.path.join(UPLOAD_FOLDER, file.filename)\n",
    "    file.save(file_location)\n",
    "\n",
    "    #call prediction function\n",
    "    result = predict_results(file_location)\n",
    "    return result"
   ]
  },
  {
   "cell_type": "code",
   "execution_count": 5,
   "metadata": {},
   "outputs": [],
   "source": [
    "#get image data\n",
    "def get_image(file_location):\n",
    "    image_loaded = image.load_img(file_location, target_size=(64,64,1))\n",
    "    image_loaded = image.img_to_array(image_loaded)\n",
    "    image_loaded = image_loaded / 255\n",
    "    image_loaded = np.expand_dims(image_loaded, axis=0)\n",
    "    return image_loaded"
   ]
  },
  {
   "cell_type": "code",
   "execution_count": 6,
   "metadata": {},
   "outputs": [],
   "source": [
    "#generate predictions\n",
    "def predict_results(data):\n",
    "    image = get_image(data)\n",
    "    prediction = model.predict(image, batch_size=None, steps=1)\n",
    "    if(prediction[:,:] > 0.5):\n",
    "        label = 'Dog'\n",
    "    else:\n",
    "        label = 'Cat'\n",
    "    return label\n"
   ]
  },
  {
   "cell_type": "code",
   "execution_count": 7,
   "metadata": {},
   "outputs": [],
   "source": [
    "def load__model():\n",
    "    global model \n",
    "    model = load_model(STATIC_FOLDER +MODEL_FOLDER + '/model.h5')\n",
    "    global graph\n",
    "    graph = tf.compat.v1.get_default_graph()"
   ]
  },
  {
   "cell_type": "code",
   "execution_count": 8,
   "metadata": {},
   "outputs": [],
   "source": [
    "def start_server():\n",
    "    app.run(debug=False)"
   ]
  },
  {
   "cell_type": "code",
   "execution_count": 9,
   "metadata": {},
   "outputs": [],
   "source": [
    "def run():\n",
    "    #load model\n",
    "    print(\"[INFO] : Loading model.....\")\n",
    "    load__model()\n",
    "    print(\"[INFO] : Model Loaded.\")\n",
    "    \n",
    "    #run server\n",
    "    print(\"[INFO] : Starting server\")\n",
    "    start_server()\n",
    "\n",
    "    #fetch and save file -> load file -> predict\n",
    "    \" auto upload() call on post method to [/upload]\"\n",
    "    #show label\n",
    "    #TODO"
   ]
  },
  {
   "cell_type": "code",
   "execution_count": 10,
   "metadata": {},
   "outputs": [
    {
     "output_type": "stream",
     "name": "stdout",
     "text": [
      "[INFO] : Loading model.....\n",
      "[INFO] : Model Loaded.\n",
      "[INFO] : Starting server\n",
      " * Serving Flask app \"__main__\" (lazy loading)\n",
      " * Environment: production\n",
      "\u001b[31m   WARNING: This is a development server. Do not use it in a production deployment.\u001b[0m\n",
      "\u001b[2m   Use a production WSGI server instead.\u001b[0m\n",
      " * Debug mode: off\n",
      " * Running on http://127.0.0.1:5000/ (Press CTRL+C to quit)\n",
      "[2021-06-05 22:49:02,172] ERROR in app: Exception on /upload [POST]\n",
      "Traceback (most recent call last):\n",
      "  File \"/Users/vishaljha/anaconda3/envs/AI/lib/python3.7/site-packages/flask/app.py\", line 2447, in wsgi_app\n",
      "    response = self.full_dispatch_request()\n",
      "  File \"/Users/vishaljha/anaconda3/envs/AI/lib/python3.7/site-packages/flask/app.py\", line 1952, in full_dispatch_request\n",
      "    rv = self.handle_user_exception(e)\n",
      "  File \"/Users/vishaljha/anaconda3/envs/AI/lib/python3.7/site-packages/flask/app.py\", line 1821, in handle_user_exception\n",
      "    reraise(exc_type, exc_value, tb)\n",
      "  File \"/Users/vishaljha/anaconda3/envs/AI/lib/python3.7/site-packages/flask/_compat.py\", line 39, in reraise\n",
      "    raise value\n",
      "  File \"/Users/vishaljha/anaconda3/envs/AI/lib/python3.7/site-packages/flask/app.py\", line 1950, in full_dispatch_request\n",
      "    rv = self.dispatch_request()\n",
      "  File \"/Users/vishaljha/anaconda3/envs/AI/lib/python3.7/site-packages/flask/app.py\", line 1936, in dispatch_request\n",
      "    return self.view_functions[rule.endpoint](**req.view_args)\n",
      "  File \"<ipython-input-4-a9d2a1f15078>\", line 9, in upload\n",
      "    file.save(file_location)\n",
      "  File \"/Users/vishaljha/anaconda3/envs/AI/lib/python3.7/site-packages/werkzeug/datastructures.py\", line 3066, in save\n",
      "    dst = open(dst, \"wb\")\n",
      "IsADirectoryError: [Errno 21] Is a directory: 'static/uploads/'\n",
      "127.0.0.1 - - [05/Jun/2021 22:49:02] \"\u001b[35m\u001b[1mPOST /upload HTTP/1.1\u001b[0m\" 500 -\n",
      "127.0.0.1 - - [05/Jun/2021 22:49:39] \"\u001b[37mPOST /upload HTTP/1.1\u001b[0m\" 200 -\n"
     ]
    }
   ],
   "source": [
    "run() #running all"
   ]
  },
  {
   "cell_type": "code",
   "execution_count": null,
   "metadata": {},
   "outputs": [],
   "source": []
  }
 ]
}